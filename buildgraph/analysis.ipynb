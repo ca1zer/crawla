{
 "cells": [
  {
   "cell_type": "markdown",
   "id": "87418ab8",
   "metadata": {},
   "source": [
    "# Twitter Graph Analysis\n",
    "This notebook loads a pre-computed pickled NetworkX graph, extracts node attributes, and performs several analyses.\n",
    "\n",
    "## Steps:\n",
    "1. Load the graph from a pickle file.\n",
    "2. Inspect the graph's basic stats (number of nodes, edges).\n",
    "3. Convert node attributes to a DataFrame.\n",
    "4. Conduct example queries and visualizations:\n",
    "   - Top accounts by PageRank.\n",
    "   - Top accounts by follower count.\n",
    "   - Correlation plots.\n",
    "   - Any additional queries.\n"
   ]
  },
  {
   "cell_type": "code",
   "execution_count": 3,
   "id": "e6228a64",
   "metadata": {
    "tags": []
   },
   "outputs": [],
   "source": [
    "# Step 1: Import required libraries\n",
    "import pickle\n",
    "import networkx as nx\n",
    "import pandas as pd\n",
    "import seaborn as sns\n",
    "import matplotlib.pyplot as plt\n",
    "from pathlib import Path\n",
    "\n",
    "# For nicer plots\n",
    "sns.set_theme(style='whitegrid')\n"
   ]
  },
  {
   "cell_type": "code",
   "execution_count": null,
   "id": "7692eab2",
   "metadata": {
    "tags": []
   },
   "outputs": [],
   "source": [
    "# Step 2: Load the pickled graph\n",
    "pickle_path = Path('graph_with_pagerank.pickle')  # Adjust if your pickle file has a different name\n",
    "with open(pickle_path, 'rb') as f:\n",
    "    G = pickle.load(f)\n",
    "\n",
    "print(f\"Loaded graph with {G.number_of_nodes()} nodes and {G.number_of_edges()} edges.\")\n",
    "pagerank_params = G.graph.get('pagerank_params', {})\n",
    "print(\"PageRank parameters used:\", pagerank_params)\n"
   ]
  },
  {
   "cell_type": "code",
   "execution_count": null,
   "id": "dcd6a0e4",
   "metadata": {},
   "outputs": [],
   "source": [
    "# Step 3: Convert node attributes to a DataFrame\n",
    "# We'll collect user_id, username, follower_count, following_count, is_verified, and pagerank_score.\n",
    "\n",
    "node_data = []\n",
    "for node, attrs in G.nodes(data=True):\n",
    "    node_data.append({\n",
    "        'user_id': node,\n",
    "        'username': attrs.get('username', 'unknown'),\n",
    "        'follower_count': attrs.get('follower_count', 0),\n",
    "        'following_count': attrs.get('following_count', 0),\n",
    "        'is_verified': attrs.get('is_verified', 0),\n",
    "        'pagerank_score': attrs.get('pagerank_score', 0.0)\n",
    "    })\n",
    "\n",
    "df = pd.DataFrame(node_data)\n",
    "print(f\"DataFrame shape: {df.shape}\")\n",
    "df.head()\n"
   ]
  },
  {
   "cell_type": "markdown",
   "id": "7f6fc8a5",
   "metadata": {},
   "source": [
    "## Basic Statistics"
   ]
  },
  {
   "cell_type": "code",
   "execution_count": null,
   "id": "b1307c16",
   "metadata": {},
   "outputs": [],
   "source": [
    "# Let's see how many verified vs. non-verified accounts are present\n",
    "verified_counts = df['is_verified'].value_counts()\n",
    "print(\"Verified distribution:\")\n",
    "print(verified_counts)\n",
    "\n",
    "# Distribution of follower counts\n",
    "print(\"\\nFollower count stats:\")\n",
    "print(df['follower_count'].describe())\n"
   ]
  },
  {
   "cell_type": "markdown",
   "id": "bcbb9e87",
   "metadata": {},
   "source": [
    "## Top Accounts by PageRank Score"
   ]
  },
  {
   "cell_type": "code",
   "execution_count": null,
   "id": "8e684867",
   "metadata": {},
   "outputs": [],
   "source": [
    "top_by_pagerank = df.sort_values(by='pagerank_score', ascending=False).head(10)\n",
    "top_by_pagerank"
   ]
  },
  {
   "cell_type": "markdown",
   "id": "9e82825b",
   "metadata": {},
   "source": [
    "## Top Accounts by Follower Count"
   ]
  },
  {
   "cell_type": "code",
   "execution_count": null,
   "id": "4dd686d5",
   "metadata": {},
   "outputs": [],
   "source": [
    "top_by_followers = df.sort_values(by='follower_count', ascending=False).head(10)\n",
    "top_by_followers"
   ]
  },
  {
   "cell_type": "markdown",
   "id": "16a5ff30",
   "metadata": {},
   "source": [
    "## Correlation between Follower Count and PageRank"
   ]
  },
  {
   "cell_type": "code",
   "execution_count": null,
   "id": "d857a705",
   "metadata": {},
   "outputs": [],
   "source": [
    "# Quick correlation check\n",
    "corr_val = df[['follower_count', 'pagerank_score']].corr().iloc[0,1]\n",
    "print(f\"Correlation between follower_count and pagerank_score: {corr_val:.4f}\")\n"
   ]
  },
  {
   "cell_type": "code",
   "execution_count": null,
   "id": "4c2c016c",
   "metadata": {
    "tags": []
   },
   "outputs": [],
   "source": [
    "# Scatterplot of PageRank Score vs. Follower Count\n",
    "plt.figure(figsize=(8,6))\n",
    "sns.scatterplot(data=df, x='follower_count', y='pagerank_score', alpha=0.6)\n",
    "plt.title('PageRank Score vs. Follower Count')\n",
    "plt.xscale('log')  # log-scale on x for better visibility if large range\n",
    "plt.yscale('log')  # might also put the y-axis on log scale\n",
    "plt.show()"
   ]
  },
  {
   "cell_type": "markdown",
   "id": "de80dd80",
   "metadata": {},
   "source": [
    "## In-Degree and Out-Degree Analysis\n",
    "We can also look at the graph structure by computing degrees."
   ]
  },
  {
   "cell_type": "code",
   "execution_count": null,
   "id": "7c583aa4",
   "metadata": {},
   "outputs": [],
   "source": [
    "in_degrees = dict(G.in_degree())\n",
    "out_degrees = dict(G.out_degree())\n",
    "\n",
    "# Add these as columns in the df\n",
    "df['in_degree'] = df['user_id'].map(in_degrees)\n",
    "df['out_degree'] = df['user_id'].map(out_degrees)\n",
    "\n",
    "df[['user_id','username','in_degree','out_degree','pagerank_score']].head(10)"
   ]
  },
  {
   "cell_type": "markdown",
   "id": "7240ad1e",
   "metadata": {},
   "source": [
    "## Visualizing Degree Distributions"
   ]
  },
  {
   "cell_type": "code",
   "execution_count": null,
   "id": "b8887162",
   "metadata": {},
   "outputs": [],
   "source": [
    "plt.figure(figsize=(12,5))\n",
    "plt.subplot(1,2,1)\n",
    "sns.histplot(df['in_degree'], log_scale=(True, False), bins=30)\n",
    "plt.title('In-Degree Distribution')\n",
    "\n",
    "plt.subplot(1,2,2)\n",
    "sns.histplot(df['out_degree'], log_scale=(True, False), bins=30)\n",
    "plt.title('Out-Degree Distribution')\n",
    "\n",
    "plt.tight_layout()\n",
    "plt.show()"
   ]
  },
  {
   "cell_type": "markdown",
   "id": "81516559",
   "metadata": {},
   "source": [
    "## Sample Query: Largest In-Degree vs. Follower Count\n",
    "Sometimes, you want to see if a node's recorded `follower_count` aligns with the actual in-degree in your dataset.\n"
   ]
  },
  {
   "cell_type": "code",
   "execution_count": null,
   "id": "d857416d",
   "metadata": {},
   "outputs": [],
   "source": [
    "df['follower_diff'] = df['follower_count'] - df['in_degree']\n",
    "df_sorted = df.sort_values(by='in_degree', ascending=False).head(10)\n",
    "df_sorted[['user_id','username','in_degree','follower_count','follower_diff']]"
   ]
  },
  {
   "cell_type": "markdown",
   "id": "3dfd52f9",
   "metadata": {},
   "source": [
    "## Final Thoughts\n",
    "You can continue adding custom queries, grouping, or advanced analytics here.  \n",
    "Additional ideas:\n",
    "- Look at subgraphs (e.g., only verified users).\n",
    "- Conduct BFS from a seed user to see how influence might propagate.\n",
    "- Compare multiple PageRank runs with different weighting schemes.\n",
    "- If you have time-series data (like different snapshots of the follow graph), do a temporal analysis.\n",
    "\n",
    "Feel free to adapt any part of the above code to fit your exploration needs!"
   ]
  }
 ],
 "metadata": {
  "kernelspec": {
   "display_name": "Python 3 (ipykernel)",
   "language": "python",
   "name": "python3"
  },
  "language_info": {
   "codemirror_mode": {
    "name": "ipython",
    "version": 3
   },
   "file_extension": ".py",
   "mimetype": "text/x-python",
   "name": "python",
   "nbconvert_exporter": "python",
   "pygments_lexer": "ipython3",
   "version": "3.11.2"
  }
 },
 "nbformat": 4,
 "nbformat_minor": 5
}
